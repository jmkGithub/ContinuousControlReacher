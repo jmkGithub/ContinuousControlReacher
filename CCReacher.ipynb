{
 "cells": [
  {
   "cell_type": "markdown",
   "metadata": {},
   "source": [
    "## 1. Import packages\n",
    "\n",
    "Imports packages, starts the environment, also views the structure of the environment\n"
   ]
  },
  {
   "cell_type": "code",
   "execution_count": 1,
   "metadata": {},
   "outputs": [
    {
     "name": "stdout",
     "output_type": "stream",
     "text": [
      "cuda:0\n"
     ]
    },
    {
     "name": "stderr",
     "output_type": "stream",
     "text": [
      "INFO:unityagents:\n",
      "'Academy' started successfully!\n",
      "Unity Academy name: Academy\n",
      "        Number of Brains: 1\n",
      "        Number of External Brains : 1\n",
      "        Lesson number : 0\n",
      "        Reset Parameters :\n",
      "\t\tgoal_speed -> 1.0\n",
      "\t\tgoal_size -> 5.0\n",
      "Unity brain name: ReacherBrain\n",
      "        Number of Visual Observations (per agent): 0\n",
      "        Vector Observation space type: continuous\n",
      "        Vector Observation space size (per agent): 33\n",
      "        Number of stacked Vector Observation: 1\n",
      "        Vector Action space type: continuous\n",
      "        Vector Action space size (per agent): 4\n",
      "        Vector Action descriptions: , , , \n"
     ]
    },
    {
     "name": "stdout",
     "output_type": "stream",
     "text": [
      "ReacherBrain\n"
     ]
    }
   ],
   "source": [
    "\n",
    "from unityagents import UnityEnvironment\n",
    "import numpy as np\n",
    "from collections import deque\n",
    "import random\n",
    "import torch\n",
    "from MemBuffer import ReplayBuffer\n",
    "import gym\n",
    "\n",
    "from DDPGAgent import Agent\n",
    "\n",
    "import matplotlib.pyplot as plt\n",
    "#\"OneAgent/Reacher_Windows_x86_64/Reacher.exe\"\n",
    "env = UnityEnvironment(file_name=\"Reacher_Windows_x86_64/Reacher.exe\")\n",
    "#env = UnityEnvironment(file_name='/data/Reacher_Linux_NoVis/Reacher.x86_64')\n",
    "# get the default brain\n",
    "brain_name = env.brain_names[0]\n",
    "brain = env.brains[brain_name]\n",
    "print(brain_name)"
   ]
  },
  {
   "cell_type": "markdown",
   "metadata": {},
   "source": [
    "## 2. Explore environment\n",
    "\n",
    "Explore the environment, find the number of agents and state/action space sizes."
   ]
  },
  {
   "cell_type": "code",
   "execution_count": 2,
   "metadata": {},
   "outputs": [
    {
     "name": "stdout",
     "output_type": "stream",
     "text": [
      "Number of agents: 20\n",
      "Size of each action: 4\n",
      "There are 20 agents. Each observes a state with length: 33\n",
      "The state for the first agent looks like: [ 0.00000000e+00 -4.00000000e+00  0.00000000e+00  1.00000000e+00\n",
      " -0.00000000e+00 -0.00000000e+00 -4.37113883e-08  0.00000000e+00\n",
      "  0.00000000e+00  0.00000000e+00  0.00000000e+00  0.00000000e+00\n",
      "  0.00000000e+00  0.00000000e+00 -1.00000000e+01  0.00000000e+00\n",
      "  1.00000000e+00 -0.00000000e+00 -0.00000000e+00 -4.37113883e-08\n",
      "  0.00000000e+00  0.00000000e+00  0.00000000e+00  0.00000000e+00\n",
      "  0.00000000e+00  0.00000000e+00  5.75471878e+00 -1.00000000e+00\n",
      "  5.55726624e+00  0.00000000e+00  1.00000000e+00  0.00000000e+00\n",
      " -1.68164849e-01]\n"
     ]
    }
   ],
   "source": [
    "# reset the environment\n",
    "env_info = env.reset(train_mode=True)[brain_name]\n",
    "\n",
    "# number of agents\n",
    "num_agents = len(env_info.agents)\n",
    "print('Number of agents:', num_agents)\n",
    "\n",
    "# size of each action\n",
    "action_size = brain.vector_action_space_size\n",
    "print('Size of each action:', action_size)\n",
    "\n",
    "# examine the state space \n",
    "states = env_info.vector_observations\n",
    "state_size = states.shape[1]\n",
    "print('There are {} agents. Each observes a state with length: {}'.format(states.shape[0], state_size))\n",
    "print('The state for the first agent looks like:', states[0])"
   ]
  },
  {
   "cell_type": "markdown",
   "metadata": {},
   "source": [
    "## 3. Initialize the agent\n",
    "\n",
    "Initializes the agent that will train."
   ]
  },
  {
   "cell_type": "code",
   "execution_count": 3,
   "metadata": {},
   "outputs": [
    {
     "name": "stdout",
     "output_type": "stream",
     "text": [
      "Completed block.\n"
     ]
    }
   ],
   "source": [
    "#env_info = env.reset(train_mode=True)[brain_name]     # reset the environment    \n",
    "#states = env_info.vector_observations                  # get the current state (for each agent)\n",
    "#scores = np.zeros(num_agents)\n",
    "seed = 1\n",
    "#BUFFER_SIZE = int(1e6)  # replay buffer size\n",
    "#BATCH_SIZE = 128        # minibatch size\n",
    "#GAMMA = 0.99            # discount factor\n",
    "\n",
    "\n",
    "agents = Agent(state_size,action_size,seed)\n",
    "#memory = ReplayBuffer(action_size,BUFFER_SIZE,BATCH_SIZE,seed)\n",
    "print(\"Completed block.\")"
   ]
  },
  {
   "cell_type": "markdown",
   "metadata": {},
   "source": [
    "## 4. The training function"
   ]
  },
  {
   "cell_type": "code",
   "execution_count": 4,
   "metadata": {},
   "outputs": [
    {
     "name": "stdout",
     "output_type": "stream",
     "text": [
      "completed block.\n"
     ]
    }
   ],
   "source": [
    "\n",
    "def ddpg(n_episodes=2000, max_t=1000, eps_start=1.0, eps_end=0.01, eps_decay=0.995):\n",
    "    \"\"\"\n",
    "        Params\n",
    "    ======\n",
    "        n_episodes (int): maximum number of training episodes\n",
    "        max_t (int): maximum number of timesteps per episode\n",
    "        eps_start (float): starting value of epsilon, for epsilon-greedy action selection\n",
    "        eps_end (float): minimum value of epsilon\n",
    "        eps_decay (float): multiplicative factor (per episode) for decreasing epsilon\n",
    "    \"\"\"\n",
    "    \n",
    "    scores = np.zeros(num_agents)     \n",
    "    scoresTemp = []                        #  list containing scores from each episode\n",
    "    scores_window = deque(maxlen=100)  # last 100 scores\n",
    "    eps = eps_start                    # initialize epsilon\n",
    "    max_Score = -np.Inf\n",
    "    #print(\"got here 0\")\n",
    "    for i_episode in range(1, n_episodes+1):\n",
    "        timestep=1\n",
    "        #print(\"got here 1\")\n",
    "        env_info = env.reset(train_mode=True)[brain_name]\n",
    "        #print(\"got here 2\")\n",
    "        states = env_info.vector_observations\n",
    "        scores = np.zeros(num_agents,)\n",
    "        #actions = np.random.randn(num_agents, action_size) # select an action (for each agent)\n",
    "        #print(\"got here 3\")\n",
    "        agents.reset()\n",
    "        while True:\n",
    "            #for i in range(num_agents):\n",
    "            #    actions[i] = agents[i].act(states[i], eps).astype(int)\n",
    "            #actions = np.clip(actions, -1, 1)  \n",
    "            actions = agents.act(states)\n",
    "            #print(\" 4\",tempcount, end=\"\")\n",
    "            env_info = env.step(actions)[brain_name]\n",
    "\n",
    "            next_states = env_info.vector_observations   # get the next state\n",
    "            \n",
    "            rewards = env_info.rewards                   # get the reward\n",
    "            #print(rewards[0])\n",
    "            dones = env_info.local_done                 # see if episode has finished\n",
    "            agents.step(states,actions,rewards,next_states,dones,timestep)\n",
    "            #for i in range(num_agents):\n",
    "            #    memory.add(states[i], actions[i], rewards[i], next_states[i], dones[i])\n",
    "                \n",
    "            #if timestep%20==0:\n",
    "                \n",
    "            #    if len(memory) > BATCH_SIZE:\n",
    "            #        for i in range(num_agents):\n",
    "            #            for j in range(10):\n",
    "            #                experiences = memory.sample()\n",
    "             #               agents[i].learn(experiences, GAMMA)\n",
    "                #agents[i].step(states[i], actions[i], rewards[i], next_states[i], dones[i])\n",
    "            states = next_states\n",
    "            scores += np.array(rewards)\n",
    "            timestep +=1\n",
    "            if np.any(dones):\n",
    "                break \n",
    "        meanScore = np.mean(scores)\n",
    "        scores_window.append(meanScore)       # save most recent score\n",
    "        scoresTemp.append(meanScore)              # save most recent score\n",
    "        eps = max(eps_end, eps_decay*eps) # decrease epsilon\n",
    "        print('\\rEpisode {}\\tScore: {:.2f}\\tAverage: {:.2f}'.format(i_episode, meanScore,np.mean(scores_window)))\n",
    "        #print('\\rEpisode {}\\tAverage Score: {:.2f}'.format(i_episode, np.mean(scores_window)), end=\"\")\n",
    "        #if i_episode % 100 == 0:\n",
    "        #    print('\\rEpisode {}\\tAverage Score: {:.2f}'.format(i_episode, np.mean(scores_window)))\n",
    "        if np.mean(scores_window)>=30.0 and i_episode >100:\n",
    "            print('\\nEnvironment solved in {:d} episodes!\\tAverage Score: {:.2f}'.format(i_episode-100, np.mean(scores_window)))\n",
    "            #torch.save(agent.qnetwork_local.state_dict(), 'checkpoint.pth')\n",
    "            torch.save(agents.actor_local.state_dict(), 'checkpoint_actor.pth')\n",
    "            torch.save(agents.critic_local.state_dict(), 'checkpoint_critic.pth')\n",
    "            break\n",
    "    return scoresTemp\n",
    "print(\"completed block.\")"
   ]
  },
  {
   "cell_type": "markdown",
   "metadata": {},
   "source": [
    "## 5. Run the Training\n",
    "\n",
    "And Plot the results"
   ]
  },
  {
   "cell_type": "code",
   "execution_count": 5,
   "metadata": {
    "scrolled": true
   },
   "outputs": [
    {
     "name": "stderr",
     "output_type": "stream",
     "text": [
      "D:\\Program Files (x86)\\Microsoft Visual Studio\\Shared\\Anaconda3_64\\envs\\drlnd\\lib\\site-packages\\torch\\nn\\functional.py:995: UserWarning: nn.functional.tanh is deprecated. Use torch.tanh instead.\n",
      "  warnings.warn(\"nn.functional.tanh is deprecated. Use torch.tanh instead.\")\n",
      "d:\\Workspace\\UdacityProjects\\deep-reinforcement-learning\\p2_continuous-control\\DDPGAgent.py:114: UserWarning: torch.nn.utils.clip_grad_norm is now deprecated in favor of torch.nn.utils.clip_grad_norm_.\n",
      "  torch.nn.utils.clip_grad_norm(self.critic_local.parameters(), 1)\n",
      "d:\\Workspace\\UdacityProjects\\deep-reinforcement-learning\\p2_continuous-control\\DDPGAgent.py:123: UserWarning: torch.nn.utils.clip_grad_norm is now deprecated in favor of torch.nn.utils.clip_grad_norm_.\n",
      "  torch.nn.utils.clip_grad_norm(self.actor_local.parameters(), 1)\n"
     ]
    },
    {
     "name": "stdout",
     "output_type": "stream",
     "text": [
      "Episode 1\tScore: 0.74\tAverage: 0.74\n",
      "Episode 2\tScore: 1.19\tAverage: 0.97\n",
      "Episode 3\tScore: 1.37\tAverage: 1.10\n",
      "Episode 4\tScore: 2.21\tAverage: 1.38\n",
      "Episode 5\tScore: 3.50\tAverage: 1.80\n",
      "Episode 6\tScore: 4.66\tAverage: 2.28\n",
      "Episode 7\tScore: 7.24\tAverage: 2.99\n",
      "Episode 8\tScore: 8.69\tAverage: 3.70\n",
      "Episode 9\tScore: 14.48\tAverage: 4.90\n",
      "Episode 10\tScore: 20.11\tAverage: 6.42\n",
      "Episode 11\tScore: 19.69\tAverage: 7.63\n",
      "Episode 12\tScore: 23.87\tAverage: 8.98\n",
      "Episode 13\tScore: 25.97\tAverage: 10.29\n",
      "Episode 14\tScore: 28.20\tAverage: 11.57\n",
      "Episode 15\tScore: 29.57\tAverage: 12.77\n",
      "Episode 16\tScore: 31.45\tAverage: 13.93\n",
      "Episode 17\tScore: 32.00\tAverage: 15.00\n",
      "Episode 18\tScore: 34.99\tAverage: 16.11\n",
      "Episode 19\tScore: 36.33\tAverage: 17.17\n",
      "Episode 20\tScore: 36.53\tAverage: 18.14\n",
      "Episode 21\tScore: 36.78\tAverage: 19.03\n",
      "Episode 22\tScore: 36.71\tAverage: 19.83\n",
      "Episode 23\tScore: 36.86\tAverage: 20.57\n",
      "Episode 24\tScore: 36.62\tAverage: 21.24\n",
      "Episode 25\tScore: 36.33\tAverage: 21.84\n",
      "Episode 26\tScore: 37.32\tAverage: 22.44\n",
      "Episode 27\tScore: 37.80\tAverage: 23.01\n",
      "Episode 28\tScore: 36.96\tAverage: 23.51\n",
      "Episode 29\tScore: 36.46\tAverage: 23.95\n",
      "Episode 30\tScore: 36.26\tAverage: 24.36\n",
      "Episode 31\tScore: 37.33\tAverage: 24.78\n",
      "Episode 32\tScore: 36.70\tAverage: 25.15\n",
      "Episode 33\tScore: 36.29\tAverage: 25.49\n",
      "Episode 34\tScore: 36.16\tAverage: 25.81\n",
      "Episode 35\tScore: 34.48\tAverage: 26.05\n",
      "Episode 36\tScore: 36.45\tAverage: 26.34\n",
      "Episode 37\tScore: 37.18\tAverage: 26.64\n",
      "Episode 38\tScore: 36.88\tAverage: 26.90\n",
      "Episode 39\tScore: 37.04\tAverage: 27.16\n",
      "Episode 40\tScore: 36.20\tAverage: 27.39\n",
      "Episode 41\tScore: 35.84\tAverage: 27.60\n",
      "Episode 42\tScore: 35.75\tAverage: 27.79\n",
      "Episode 43\tScore: 37.24\tAverage: 28.01\n",
      "Episode 44\tScore: 36.47\tAverage: 28.20\n",
      "Episode 45\tScore: 37.10\tAverage: 28.40\n",
      "Episode 46\tScore: 36.72\tAverage: 28.58\n",
      "Episode 47\tScore: 36.33\tAverage: 28.75\n",
      "Episode 48\tScore: 35.00\tAverage: 28.88\n",
      "Episode 49\tScore: 35.73\tAverage: 29.02\n",
      "Episode 50\tScore: 37.18\tAverage: 29.18\n",
      "Episode 51\tScore: 36.80\tAverage: 29.33\n",
      "Episode 52\tScore: 37.42\tAverage: 29.48\n",
      "Episode 53\tScore: 36.49\tAverage: 29.62\n",
      "Episode 54\tScore: 36.59\tAverage: 29.75\n",
      "Episode 55\tScore: 36.63\tAverage: 29.87\n",
      "Episode 56\tScore: 37.06\tAverage: 30.00\n",
      "Episode 57\tScore: 36.42\tAverage: 30.11\n",
      "Episode 58\tScore: 35.86\tAverage: 30.21\n",
      "Episode 59\tScore: 36.87\tAverage: 30.32\n",
      "Episode 60\tScore: 35.88\tAverage: 30.42\n",
      "Episode 61\tScore: 35.69\tAverage: 30.50\n",
      "Episode 62\tScore: 35.96\tAverage: 30.59\n",
      "Episode 63\tScore: 36.62\tAverage: 30.69\n",
      "Episode 64\tScore: 36.54\tAverage: 30.78\n",
      "Episode 65\tScore: 36.84\tAverage: 30.87\n",
      "Episode 66\tScore: 36.00\tAverage: 30.95\n",
      "Episode 67\tScore: 36.15\tAverage: 31.03\n",
      "Episode 68\tScore: 36.30\tAverage: 31.10\n",
      "Episode 69\tScore: 37.55\tAverage: 31.20\n",
      "Episode 70\tScore: 37.60\tAverage: 31.29\n",
      "Episode 71\tScore: 36.78\tAverage: 31.37\n",
      "Episode 72\tScore: 35.72\tAverage: 31.43\n",
      "Episode 73\tScore: 36.80\tAverage: 31.50\n",
      "Episode 74\tScore: 37.15\tAverage: 31.58\n",
      "Episode 75\tScore: 36.22\tAverage: 31.64\n",
      "Episode 76\tScore: 36.81\tAverage: 31.71\n",
      "Episode 77\tScore: 36.21\tAverage: 31.77\n",
      "Episode 78\tScore: 37.37\tAverage: 31.84\n",
      "Episode 79\tScore: 37.26\tAverage: 31.91\n",
      "Episode 80\tScore: 36.71\tAverage: 31.97\n",
      "Episode 81\tScore: 36.55\tAverage: 32.02\n",
      "Episode 82\tScore: 36.90\tAverage: 32.08\n",
      "Episode 83\tScore: 37.52\tAverage: 32.15\n",
      "Episode 84\tScore: 37.71\tAverage: 32.21\n",
      "Episode 85\tScore: 36.91\tAverage: 32.27\n",
      "Episode 86\tScore: 36.92\tAverage: 32.32\n",
      "Episode 87\tScore: 36.68\tAverage: 32.37\n",
      "Episode 88\tScore: 37.01\tAverage: 32.43\n",
      "Episode 89\tScore: 37.30\tAverage: 32.48\n",
      "Episode 90\tScore: 37.27\tAverage: 32.53\n",
      "Episode 91\tScore: 38.11\tAverage: 32.60\n",
      "Episode 92\tScore: 37.12\tAverage: 32.64\n",
      "Episode 93\tScore: 35.57\tAverage: 32.68\n",
      "Episode 94\tScore: 37.46\tAverage: 32.73\n",
      "Episode 95\tScore: 36.72\tAverage: 32.77\n",
      "Episode 96\tScore: 36.17\tAverage: 32.80\n",
      "Episode 97\tScore: 35.67\tAverage: 32.83\n",
      "Episode 98\tScore: 36.80\tAverage: 32.87\n",
      "Episode 99\tScore: 36.69\tAverage: 32.91\n",
      "Episode 100\tScore: 36.80\tAverage: 32.95\n",
      "Episode 101\tScore: 36.85\tAverage: 33.31\n",
      "\n",
      "Environment solved in 1 episodes!\tAverage Score: 33.31\n"
     ]
    },
    {
     "data": {
      "image/png": "[encoded data removed]",
      "text/plain": [
       "<Figure size 432x288 with 1 Axes>"
      ]
     },
     "metadata": {
      "needs_background": "light"
     },
     "output_type": "display_data"
    }
   ],
   "source": [
    "myScores = ddpg()\n",
    "\n",
    "# plot the scores\n",
    "fig = plt.figure()\n",
    "ax = fig.add_subplot(111)\n",
    "plt.plot(np.arange(len(myScores)), myScores)\n",
    "plt.ylabel('Score')\n",
    "plt.xlabel('Episode #')\n",
    "plt.show()"
   ]
  },
  {
   "cell_type": "markdown",
   "metadata": {},
   "source": [
    "## 6. Close the Environment"
   ]
  },
  {
   "cell_type": "code",
   "execution_count": 6,
   "metadata": {},
   "outputs": [],
   "source": [
    "env.close()"
   ]
  },
  {
   "cell_type": "code",
   "execution_count": null,
   "metadata": {},
   "outputs": [],
   "source": []
  }
 ],
 "metadata": {
  "kernelspec": {
   "display_name": "drlnd",
   "language": "python",
   "name": "drlnd"
  },
  "language_info": {
   "codemirror_mode": {
    "name": "ipython",
    "version": 3
   },
   "file_extension": ".py",
   "mimetype": "text/x-python",
   "name": "python",
   "nbconvert_exporter": "python",
   "pygments_lexer": "ipython3",
   "version": "3.6.6"
  }
 },
 "nbformat": 4,
 "nbformat_minor": 2
}
